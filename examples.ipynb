{
 "cells": [
  {
   "cell_type": "markdown",
   "metadata": {},
   "source": [
    "# Example: Imputation using MIPLS2\n",
    "\n",
    "This example demonstrates how to use the `MIPLS2_v7` class to perform imputation on a dataset containing missing values. We'll also utilize the `Miscellaneous_Funcs` class from `Miscellaneous.py` for any necessary auxiliary functions. This notebook guides you through creating two sets of data (`X` and `Y`), defining necessary parameters, and performing imputation on a dataset with missing values (`YI`)."
   ]
  },
  {
   "cell_type": "code",
   "execution_count": null,
   "metadata": {},
   "outputs": [],
   "source": [
    "# Loading necessary libraries\n",
    "import numpy as np\n",
    "import matplotlib.pyplot as plt\n",
    "import MIPLS2_v8 as mipls2  # Importing the class for imputation\n"
   ]
  },
  {
   "cell_type": "markdown",
   "metadata": {},
   "source": [
    "## Generating Synthetic Data\n",
    "\n",
    "We will generate two synthetic datasets: `X` and `Y`. These datasets will have the same number of rows (samples) but different numbers of columns. Then, we will create `YI`, which is a version of `Y` with some missing values.\n",
    "\n",
    "In this case, we'll generate random data using `numpy` with controlled random seed to ensure reproducibility."
   ]
  },
  {
   "cell_type": "code",
   "execution_count": null,
   "metadata": {},
   "outputs": [],
   "source": [
    "# Defining the number of samples and columns for X and Y\n",
    "np.random.seed(42)  # Setting seed for reproducibility\n",
    "n_samples = 100  # Number of samples (rows)\n",
    "n_features_X = 10  # Number of columns in X\n",
    "n_features_Y = 5   # Number of columns in Y\n",
    "\n",
    "# Generating random data for X and Y\n",
    "X = np.random.rand(n_samples, n_features_X)\n",
    "Y = np.random.rand(n_samples, n_features_Y)\n",
    "\n",
    "# Introducing missing values in Y to create YI (simulated incomplete data)\n",
    "YI = Y.copy()\n",
    "missing_rate = 0.2  # 20% missing values\n",
    "mask = np.random.rand(n_samples, n_features_Y) < missing_rate\n",
    "YI[mask] = np.nan  # Assigning NaN to introduce missing values\n",
    "\n",
    "# Displaying a sample of the data\n",
    "print('First 5 rows of X:', X[:5], sep='\\n')\n",
    "print('\\nFirst 5 rows of Y (complete):', Y[:5], sep='\\n')\n",
    "print('\\nFirst 5 rows of YI (with missing values):', YI[:5], sep='\\n')"
   ]
  },
  {
   "cell_type": "markdown",
   "metadata": {},
   "source": [
    "## Defining Parameters for Imputation\n",
    "\n",
    "We will now define the necessary parameters for performing imputation using the `MIPLS2_v7` class. The key parameters include the mode of operation (`App`), the number of latent variables (`Max_LV`), cross-validation mode, and more.\n",
    "\n",
    "Below are the details of some key parameters:\n",
    "- `App`: Application mode, which can be `A0xy`, `A1xy`, `A2xy`, or `A3xy`.\n",
    "- `Just_do_min`: Whether to minimize the number of latent variables or not.\n",
    "- `Opt_LV`: Determines how the number of latent variables is selected.\n",
    "- `Max_LV`: Maximum number of latent variables for the PLS model.\n",
    "- `cv_mode`: Cross-validation mode, either `KFold` or `Venetian`.\n",
    "- `NSplits`: Number of splits for cross-validation.\n",
    "- `gm_type`: Type of generalized mean for imputation.\n"
   ]
  },
  {
   "cell_type": "code",
   "execution_count": null,
   "metadata": {},
   "outputs": [],
   "source": [
    "# Defining necessary parameters for the code execution\n",
    "App = 'A0xy'  # Application mode\n",
    "Just_do_min = True  # Minimize the number of latent variables\n",
    "Opt_LV = 'pervar'  # Select latent variables based on percentage of variance explained\n",
    "gm_type = 3  # Generalized mean type\n",
    "Max_LV = 30  # Maximum number of latent variables\n",
    "cv_mode = 'KFold'  # Cross-validation mode ('KFold' or 'Venetian')\n",
    "NSplits = 10  # Number of splits for KFold cross-validation\n",
    "rnd_stat = 42  # Random seed for reproducibility"
   ]
  },
  {
   "cell_type": "markdown",
   "metadata": {},
   "source": [
    "## Performing PLS-Based Imputation\n",
    "\n",
    "We will now use the `PLS2Based_Imputation` method from the `MIPLS2_v7` class to perform the imputation. The imputation will predict the missing values in `YI` based on the available values in `X` and `YI`. The model will be evaluated using cross-validation to find the optimal number of latent variables for the imputation process."
   ]
  },
  {
   "cell_type": "code",
   "execution_count": null,
   "metadata": {},
   "outputs": [],
   "source": [
    "# Performing PLS-Based Imputation using the MIPLS2_v7 class\n",
    "BPI = mipls2.MIPLS2()\n",
    "\n",
    "Thresh = 1e-5  # Threshold for stopping criteria\n",
    "CNT = 16  # Some constant for internal processing (number of iterations)\n",
    "\n",
    "# Perform the imputation\n",
    "_, Yhat, _, _, _, _, _, _, _, _, _, _ = mipls2.PLS2Based_Imputation(\n",
    "    X, YI, App, Just_do_min, Opt_LV, Max_LV, cv_mode, Nsplits=NSplits, \n",
    "    rnd_stat=rnd_stat, gm_type=gm_type, Thresh=Thresh, CNT=CNT, YT=None, verbose=True\n",
    ")\n",
    "\n",
    "# Display a sample of the imputed data\n",
    "print('\\nFirst 5 rows of YI (original with missing values):', YI[:5], sep='\\n')\n",
    "print('\\nFirst 5 rows of Yhat (imputed values):', Yhat[:5], sep='\\n')"
   ]
  },
  {
   "cell_type": "markdown",
   "metadata": {},
   "source": [
    "## Evaluating the Imputation\n",
    "\n",
    "To assess the quality of the imputation, we can compute metrics such as RMSE (Root Mean Square Error) and R-squared between the imputed values (`Yhat`) and the true values (`Y`). These metrics will help quantify the performance of the imputation."
   ]
  },
  {
   "cell_type": "code",
   "execution_count": null,
   "metadata": {},
   "outputs": [],
   "source": [
    "# Defining functions for RMSE and R-squared calculation\n",
    "def rmse(y_true, y_pred):\n",
    "    return np.sqrt(np.nanmean((y_true - y_pred) ** 2))\n",
    "\n",
    "def r_squared(y_true, y_pred):\n",
    "    ss_res = np.nansum((y_true - y_pred) ** 2)\n",
    "    ss_tot = np.nansum((y_true - np.nanmean(y_true)) ** 2)\n",
    "    return 1 - (ss_res / ss_tot)\n",
    "\n",
    "# Calculating RMSE and R-squared for the imputed values\n",
    "imputation_rmse = rmse(Y, Yhat)\n",
    "imputation_r_squared = r_squared(Y, Yhat)\n",
    "\n",
    "# Display the results\n",
    "print(f'RMSE of imputation: {imputation_rmse:.4f}')\n",
    "print(f'R-squared of imputation: {imputation_r_squared:.4f}')"
   ]
  },
  {
   "cell_type": "markdown",
   "metadata": {},
   "source": [
    "## Conclusion\n",
    "\n",
    "In this notebook, we demonstrated how to use the `MIPLS2_v7` class to perform Partial Least Squares (PLS) based imputation on a dataset with missing values. The imputation was evaluated using RMSE and R-squared, providing insight into its accuracy and performance.\n",
    "\n",
    "This notebook can be expanded or modified to use real-world datasets, and further tuning of parameters can be done to optimize the imputation results."
   ]
  }
 ],
 "metadata": {
  "kernelspec": {
   "display_name": "Python 3",
   "language": "python",
   "name": "python3"
  },
  "language_info": {
   "codemirror_mode": {
    "name": "ipython",
    "version": 3
   },
   "file_extension": ".py",
   "mimetype": "text/x-python",
   "name": "python",
   "nbconvert_exporter": "python",
   "pygments_lexer": "ipython3",
   "version": "3.8.5"
  }
 },
 "nbformat": 4,
 "nbformat_minor": 4
}

